{
 "cells": [
  {
   "cell_type": "code",
   "execution_count": 22,
   "metadata": {},
   "outputs": [],
   "source": [
    "from urllib.parse import urlencode\n",
    "from urllib.request import urlopen\n",
    "from datetime import datetime\n",
    "import itertools\n",
    "import time\n",
    "import pandas as pd\n",
    "import matplotlib.pyplot as plt\n",
    "import numpy as np\n",
    "import csv\n",
    "from datetime import datetime, timedelta\n"
   ]
  },
  {
   "cell_type": "code",
   "execution_count": 23,
   "metadata": {},
   "outputs": [],
   "source": [
    "def dateToStr(date):\n",
    "    l = date.split('.')\n",
    "    l[2]=l[2][2:]\n",
    "    return ''.join(l)\n",
    "\n",
    "def getFileName(ticker,period,startDate,endDate):\n",
    "    return f'./data/{ticker}_{period}_{dateToStr(startDate)}_{dateToStr(endDate)}.txt'\n",
    "\n",
    "def getData(url, fileName):\n",
    "    print(\"Стучимся на Финам по ссылке: \"+url)\n",
    "    txt=urlopen(url).readlines()\n",
    "    local_file = open(fileName, \"w\") #задаём файл, в который запишем котировки.\n",
    "    for line in txt: #записываем свечи строку за строкой. \n",
    "        local_file.write(line.strip().decode( \"windows-1251\" )+'\\n')\t\n",
    "    local_file.close()\n",
    "    txt_to_csv(fileName, fileName[:-3] + 'csv')\n",
    "    print(f\"Готово. Проверьте файл {fileName}\")\n",
    "\n",
    "# def getFileName(ticker,period,startDate,endDate):\n",
    "#     return f'./data/{ticker}_{period}_{dateToStr(startDate)}_{dateToStr(endDate)}.csv'\n",
    "\n",
    "def txt_to_csv(input_file, output_file):\n",
    "    with open(input_file, 'r') as txt_file:\n",
    "        lines = txt_file.readlines()\n",
    "\n",
    "    with open(output_file, 'w', newline='') as csv_file:\n",
    "        csv_writer = csv.writer(csv_file, delimiter=',')\n",
    "        for line in lines:\n",
    "            values = line.strip().split(' ')\n",
    "            csv_writer.writerow(values)"
   ]
  },
  {
   "cell_type": "code",
   "execution_count": 25,
   "metadata": {},
   "outputs": [],
   "source": [
    "# tickers={'AFKS':19715, 'AFLT':29, 'AGRO':399716, 'ALRS':81820, 'CBOM':420694, \n",
    "#          'CHMF':16136, 'ENPG':929597, 'FEES':20509, 'FIVE':491944, 'GAZP':16842,\n",
    "#          'GLTR':2134426, 'GMKN':795, 'HYDR':20266, 'IRAO':20516, 'LKOH':8,\n",
    "#          'MAGN':16782, 'MGNT':17086,'MOEX':152798, 'MTSS':15523, 'NLMK':17046,\n",
    "#          'NVTK':17370, 'OZON':2179435, 'PHOR':81114,'PIKK':18654,'PLZL':17123,\n",
    "#          'POLY':175924, 'POSI':2907747, 'QIWI':181610,'ROSN':17273,'RTKM':7,\n",
    "#          'RUAL':414279,'SBER':3,'SBERP':23,'SELG':81360, 'SGZH':2477992,\n",
    "#          'SNGS':4,'SNGSP':13, 'TATN':825, 'TATNP':826, 'TCSG':913710,\n",
    "#          'TRNFP':1012, 'UPRO':18584, 'VKCO':2901666, 'VTBR':19043, 'YNDX':388383}\n",
    "tickers={'AFKS':19715, 'AFLT':29}\n",
    "periods = {'daily': 8,}\n",
    "startDate = \"01.01.2014\"\n",
    "endDate = \"01.01.2024\"\n",
    "market = 0\n",
    "start_date = datetime.strptime(startDate, \"%d.%m.%Y\").date()\n",
    "start_date_rev=datetime.strptime(startDate, '%d.%m.%Y').strftime('%Y%m%d')\n",
    "end_date = datetime.strptime(endDate, \"%d.%m.%Y\").date()\n",
    "end_date_rev=datetime.strptime(endDate, '%d.%m.%Y').strftime('%Y%m%d')"
   ]
  },
  {
   "cell_type": "code",
   "execution_count": 19,
   "metadata": {},
   "outputs": [],
   "source": [
    "current_date = datetime.now()\n",
    "day_before = current_date - timedelta(days=100)\n",
    "startDate = day_before.strftime(\"%d.%m.%Y\")\n",
    "endDate = day_before.strftime(\"%d.%m.%Y\")"
   ]
  },
  {
   "cell_type": "code",
   "execution_count": 20,
   "metadata": {},
   "outputs": [],
   "source": [
    "start_date = datetime.strptime(startDate, \"%d.%m.%Y\").date()\n",
    "start_date_rev=datetime.strptime(startDate, '%d.%m.%Y').strftime('%Y%m%d')\n",
    "end_date = datetime.strptime(endDate, \"%d.%m.%Y\").date()\n",
    "end_date_rev=datetime.strptime(endDate, '%d.%m.%Y').strftime('%Y%m%d')"
   ]
  },
  {
   "cell_type": "code",
   "execution_count": 26,
   "metadata": {},
   "outputs": [
    {
     "name": "stdout",
     "output_type": "stream",
     "text": [
      "Стучимся на Финам по ссылке: http://export.finam.ru/AFKS_20140101_20240101.csv?market=0&em=19715&code=AFKS&apply=0&df=1&mf=0&yf=2014&from=2014-01-01&dt=1&mt=0&yt=2024&to=2024-01-01&p=8&f=AFKS_20140101_20240101&e=.csv&cn=AFKS&dtf=1&tmf=1&MSOR=0&mstime=on&mstimever=1&sep=1&sep2=1&datf=1&at=1\n",
      "+++++++\n",
      "Готово. Проверьте файл ./data/AFKS_daily_010114_010124.txt\n",
      "Стучимся на Финам по ссылке: http://export.finam.ru/AFLT_20140101_20240101.csv?market=0&em=29&code=AFLT&apply=0&df=1&mf=0&yf=2014&from=2014-01-01&dt=1&mt=0&yt=2024&to=2024-01-01&p=8&f=AFLT_20140101_20240101&e=.csv&cn=AFLT&dtf=1&tmf=1&MSOR=0&mstime=on&mstimever=1&sep=1&sep2=1&datf=1&at=1\n",
      "+++++++\n",
      "Готово. Проверьте файл ./data/AFLT_daily_010114_010124.txt\n"
     ]
    }
   ],
   "source": [
    "for ticker in tickers:\n",
    "    for period in periods:\n",
    "        fileName = getFileName(ticker,period,startDate,endDate)\n",
    "        params = urlencode([\n",
    "                            ('market', market), #на каком рынке торгуется бумага\n",
    "                            ('em', tickers[ticker]), #вытягиваем цифровой символ, который соответствует бумаге.\n",
    "                            ('code', ticker), #тикер нашей акции\n",
    "                            ('apply',0), #не нашёл что это значит. \n",
    "                            ('df', start_date.day), #Начальная дата, номер дня (1-31)\n",
    "                            ('mf', start_date.month - 1), #Начальная дата, номер месяца (0-11)\n",
    "                            ('yf', start_date.year), #Начальная дата, год\n",
    "                            ('from', start_date), #Начальная дата полностью\n",
    "                            ('dt', end_date.day), #Конечная дата, номер дня\t\n",
    "                            ('mt', end_date.month - 1), #Конечная дата, номер месяца\n",
    "                            ('yt', end_date.year), #Конечная дата, год\n",
    "                            ('to', end_date), #Конечная дата\n",
    "                            ('p', periods[period]), #Таймфрейм\n",
    "                            ('f', ticker+\"_\" + start_date_rev + \"_\" + end_date_rev), #Имя сформированного файла\n",
    "                            ('e', \".csv\"), #Расширение сформированного файла\n",
    "                            ('cn', ticker), #ещё раз тикер акции\t\n",
    "                            ('dtf', 1), #В каком формате брать даты. Выбор из 5 возможных. См. страницу https://www.finam.ru/profile/moex-akcii/sberbank/export/\n",
    "                            ('tmf', 1), #В каком формате брать время. Выбор из 4 возможных.\n",
    "                            ('MSOR', 0), #Время свечи (0 - open; 1 - close)\t\n",
    "                            ('mstime', \"on\"), #Московское время\t\n",
    "                            ('mstimever', 1), #Коррекция часового пояса\t\n",
    "                            ('sep', 1), #Разделитель полей\t(1 - запятая, 2 - точка, 3 - точка с запятой, 4 - табуляция, 5 - пробел)\n",
    "                            ('sep2', 1), #Разделитель разрядов\n",
    "                            ('datf', 1), #Формат записи в файл. Выбор из 6 возможных.\n",
    "                            ('at', 1)]) #Нужны ли заголовки столбцов\n",
    "        FINAM_URL = \"http://export.finam.ru/\"\n",
    "        url = FINAM_URL + ticker+\"_\" + start_date_rev + \"_\" + end_date_rev + \".csv?\" + params\n",
    "        getData(url, fileName)"
   ]
  },
  {
   "cell_type": "code",
   "execution_count": 6,
   "metadata": {},
   "outputs": [
    {
     "data": {
      "text/plain": [
       "'http://export.finam.ru/YNDX_20140101_20240101.csv?market=0&em=388383&code=YNDX&apply=0&df=1&mf=0&yf=2014&from=2014-01-01&dt=1&mt=0&yt=2024&to=2024-01-01&p=8&f=YNDX_20140101_20240101&e=.csv&cn=YNDX&dtf=1&tmf=1&MSOR=0&mstime=on&mstimever=1&sep=1&sep2=1&datf=1&at=1'"
      ]
     },
     "execution_count": 6,
     "metadata": {},
     "output_type": "execute_result"
    }
   ],
   "source": [
    "url"
   ]
  },
  {
   "cell_type": "code",
   "execution_count": null,
   "metadata": {},
   "outputs": [],
   "source": []
  }
 ],
 "metadata": {
  "kernelspec": {
   "display_name": "Python 3",
   "language": "python",
   "name": "python3"
  },
  "language_info": {
   "codemirror_mode": {
    "name": "ipython",
    "version": 3
   },
   "file_extension": ".py",
   "mimetype": "text/x-python",
   "name": "python",
   "nbconvert_exporter": "python",
   "pygments_lexer": "ipython3",
   "version": "3.11.7"
  }
 },
 "nbformat": 4,
 "nbformat_minor": 2
}
