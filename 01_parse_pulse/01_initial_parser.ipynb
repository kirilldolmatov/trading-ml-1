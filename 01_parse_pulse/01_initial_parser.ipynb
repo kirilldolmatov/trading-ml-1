{
 "cells": [
  {
   "cell_type": "markdown",
   "metadata": {},
   "source": [
    "### Description"
   ]
  },
  {
   "cell_type": "markdown",
   "metadata": {},
   "source": [
    "- Парсер пульса с прокруткой (для сбора начальной базы данных с помощью selenium)\n",
    "- Преобразование даннных в pandas.dataframe\n",
    "- В конце первые попытки подвязать gpt"
   ]
  },
  {
   "cell_type": "markdown",
   "metadata": {},
   "source": [
    "### Libraries"
   ]
  },
  {
   "cell_type": "code",
   "execution_count": 11,
   "metadata": {},
   "outputs": [],
   "source": [
    "from selenium import webdriver\n",
    "from selenium.webdriver.common.by import By\n",
    "from selenium.webdriver.support.ui import WebDriverWait\n",
    "from selenium.webdriver.support import expected_conditions as EC\n",
    "from bs4 import BeautifulSoup\n",
    "import time\n",
    "import emoji\n",
    "import re\n",
    "from datetime import datetime, timedelta\n",
    "import json\n",
    "import pandas as pd\n",
    "from openai import OpenAI\n",
    "import settings"
   ]
  },
  {
   "cell_type": "markdown",
   "metadata": {},
   "source": [
    "### Parser"
   ]
  },
  {
   "cell_type": "code",
   "execution_count": 323,
   "metadata": {},
   "outputs": [],
   "source": [
    "class Article:\n",
    "    month_dict = {\n",
    "    'января': '01',\n",
    "    'февраля': '02',\n",
    "    'марта': '03',\n",
    "    'апреля': '04',\n",
    "    'мая': '05',\n",
    "    'июня': '06',\n",
    "    'июля': '07',\n",
    "    'августа': '08',\n",
    "    'сентября': '09',\n",
    "    'октября': '10',\n",
    "    'ноября': '11',\n",
    "    'декабря': '12'\n",
    "    }\n",
    "    \n",
    "    def __init__(self, date, text):#, likes):\n",
    "        self.date = self.fix_dates(date)\n",
    "        self.text = self.clean_text(text)\n",
    "        # self.likes = likes\n",
    "\n",
    "    def clean_text(self, text):\n",
    "        emoji_pattern = re.compile(\"[\"\n",
    "                                u\"\\U0001F600-\\U0001F64F\"  # emoticons\n",
    "                                u\"\\U0001F300-\\U0001F5FF\"  # symbols & pictographs\n",
    "                                u\"\\U0001F680-\\U0001F6FF\"  # transport & map symbols\n",
    "                                u\"\\U0001F700-\\U0001F77F\"  # alchemical symbols\n",
    "                                u\"\\U0001F780-\\U0001F7FF\"  # Geometric Shapes Extended\n",
    "                                u\"\\U0001F800-\\U0001F8FF\"  # Supplemental Arrows-C\n",
    "                                u\"\\U0001F900-\\U0001F9FF\"  # Supplemental Symbols and Pictographs\n",
    "                                u\"\\U0001FA00-\\U0001FA6F\"  # Chess Symbols\n",
    "                                u\"\\U0001FA70-\\U0001FAFF\"  # Symbols and Pictographs Extended-A\n",
    "                                u\"\\U00002702-\\U000027B0\"  # Dingbats\n",
    "                                u\"\\U000024C2-\\U0001F251\" \n",
    "                                \"]+\", flags=re.UNICODE)\n",
    "        clean_text = emoji_pattern.sub(r'', text)\n",
    "        return clean_text\n",
    "    \n",
    "    def fix_dates(self, date_string):\n",
    "        if 'Сегодня' in date_string:\n",
    "            result = datetime.combine(datetime.now().date(), datetime.strptime(date_string.split(\" \")[-1], '%H:%M').time()).strftime(\"%Y-%m-%d %H:%M\")\n",
    "        elif 'Вчера' in date_string:\n",
    "            result = datetime.combine(datetime.now().date() - timedelta(days=1), datetime.strptime(date_string.split(\" \")[-1], '%H:%M').time()).strftime(\"%Y-%m-%d %H:%M\")\n",
    "        else:\n",
    "            result_list = date_string.split(\" \")\n",
    "            result_list[1] = self.month_dict[result_list[1]]\n",
    "            result_list.pop(3)\n",
    "            date_str = ' '.join(result_list)\n",
    "            # result = date_str\n",
    "            date_format = '%d %m %Y %H:%M'\n",
    "            result = datetime.strptime(date_str, date_format).strftime(\"%Y-%m-%d %H:%M:%S\")\n",
    "        return result\n",
    "\n",
    "class Author:\n",
    "\n",
    "    def get_subscribers():\n",
    "        pass\n",
    "    def get_profitability():\n",
    "        pass\n",
    "    def get_base_url(self, name, start= settings.BASE_URL):\n",
    "        return start+name\n",
    "    def __init__(self, name: str):\n",
    "        self.name = name\n",
    "        self.base_url = self.get_base_url(name)\n",
    "\n",
    "        self.subscribers, self.size, self.month_activity, self.profitability, self.articles = self.get_full_data(self.base_url)\n",
    "\n",
    "\n",
    "    def get_full_data(self, url):\n",
    "        driver = webdriver.Chrome()\n",
    "        driver.get(url)\n",
    "        try:\n",
    "            # for i in range(2):  \n",
    "            #     print('start', i)\n",
    "            #     time.sleep(7)\n",
    "            #     driver.execute_script(\"window.scrollTo(0, document.body.scrollHeight - 1000);\")\n",
    "            #     time.sleep(1)\n",
    "\n",
    "            page_source = driver.page_source\n",
    "        \n",
    "            soup = BeautifulSoup(page_source, 'html.parser')\n",
    "            data = soup.find_all('div', {'data-qa-tag':'PulsePost'})\n",
    "            profile_info = soup.find_all('div', {'class':'pulse-profilepage__dej4vS'})\n",
    "\n",
    "\n",
    "            size = list(profile_info[0])[1].get_text().replace('\\xa0', ' ').replace('₽', '').split(\" \", 1)[0] + \" \" + list(profile_info[0])[1].get_text().replace('\\xa0', ' ').replace('₽', '').split(\" \", 1)[1].replace(\" \", \"\")\n",
    "            month_activity = int(list(profile_info[1])[1].get_text().split(\" \")[0])\n",
    "            profitability = float(list(profile_info[2])[1].get_text().replace(',', '.').replace(' ', '')[:-1])\n",
    "\n",
    "            subscribers = int(soup.find_all('span', {'class':'pulse-profilepage__hQEzFm'})[0].get_text().replace(' ', ''))\n",
    "\n",
    "            articles = []\n",
    "            print(f\"Загружено {len(data)} постов\")\n",
    "\n",
    "            for post in data:\n",
    "                text = post.find_all('div', {'class':'pulse-profilepage__fGGBmY'})[0].get_text()\n",
    "                date = post.find_all('div', {'pulse-profilepage__cSULlZ'})[0].get_text()\n",
    "                # likes = post.find_all('div', {'pulse-profilepage__ei8mu9'})[0].get_text()\n",
    "\n",
    "                article = Article(date, text)#, likes)\n",
    "                articles.append(article)\n",
    "\n",
    "            return subscribers, size, month_activity, profitability, articles\n",
    "        finally:\n",
    "            driver.quit()\n",
    "        \n",
    "class Authors:\n",
    "    def __init__(self, authors_list=[]):\n",
    "        self.authors_list = authors_list\n",
    "\n",
    "    def add_author(self, author):\n",
    "        self.authors_list.append(author)\n",
    "\n",
    "    def save_to_json(self, filename):\n",
    "        author_data_list = []\n",
    "        for author in self.authors_list:\n",
    "            author_data = {\n",
    "                \"name\": author.name,\n",
    "                \"base_url\": author.base_url,\n",
    "                \"subscribers\": author.subscribers,\n",
    "                \"size\": author.size,\n",
    "                \"month_activity\": author.month_activity,\n",
    "                \"profitability\": author.profitability,\n",
    "                \"articles\": [{\"date\": article.date, \"text\": article.text} for article in author.articles],\n",
    "            }\n",
    "            author_data_list.append(author_data)\n",
    "\n",
    "        with open(filename, \"w\", encoding=\"utf-8\") as json_file:\n",
    "            json.dump(author_data_list, json_file, ensure_ascii=False, indent=4)"
   ]
  },
  {
   "cell_type": "code",
   "execution_count": 348,
   "metadata": {},
   "outputs": [],
   "source": [
    "names = [\"artydevCo\",\n",
    "\"ALL_TIME_TRADING\",\n",
    "\"Gaong\",\n",
    "\"Vladislavzz\",\n",
    "\"CyberMoneyFunnyPunk\"]"
   ]
  },
  {
   "cell_type": "markdown",
   "metadata": {},
   "source": [
    "### Run and save"
   ]
  },
  {
   "cell_type": "code",
   "execution_count": 349,
   "metadata": {},
   "outputs": [
    {
     "name": "stdout",
     "output_type": "stream",
     "text": [
      "Загружено 30 постов\n",
      "Загружено 30 постов\n",
      "Загружено 30 постов\n",
      "Загружено 30 постов\n",
      "Загружено 30 постов\n"
     ]
    }
   ],
   "source": [
    "l = []\n",
    "for name in names:\n",
    "    l.append(Author(name))\n",
    "a = Authors(l)\n",
    "a.save_to_json(\"authors_data.json\")"
   ]
  },
  {
   "cell_type": "markdown",
   "metadata": {},
   "source": [
    "### Create DataFrame"
   ]
  },
  {
   "cell_type": "code",
   "execution_count": 12,
   "metadata": {},
   "outputs": [],
   "source": [
    "df = pd.read_json(\"authors_data.json\")\n",
    "df = df.explode('articles')\n",
    "df.reset_index(inplace=True, drop=True)\n",
    "\n",
    "df['date'] = df['articles'].apply(lambda x: x.pop('date'))\n",
    "df['text'] = df['articles'].apply(lambda x: x.pop('text'))\n",
    "df.drop(columns=['articles'], inplace=True)\n",
    "\n"
   ]
  },
  {
   "cell_type": "markdown",
   "metadata": {},
   "source": [
    "### GPT"
   ]
  },
  {
   "cell_type": "code",
   "execution_count": 24,
   "metadata": {},
   "outputs": [],
   "source": [
    "file_path = 'question.txt'\n",
    "\n",
    "try:\n",
    "    with open(file_path, 'r', encoding='utf-8') as file:\n",
    "        file_content = file.read()\n",
    "except FileNotFoundError:\n",
    "    print(f\"The file {file_path} does not exist.\")\n",
    "except Exception as e:\n",
    "    print(f\"An error occurred: {e}\")\n"
   ]
  },
  {
   "cell_type": "code",
   "execution_count": null,
   "metadata": {},
   "outputs": [],
   "source": []
  },
  {
   "cell_type": "code",
   "execution_count": 25,
   "metadata": {},
   "outputs": [
    {
     "name": "stdout",
     "output_type": "stream",
     "text": [
      "Напиши три ответа на основании предложенного текста, ответы должны быть односложными:\n",
      "1. напиши только рассматриваемый в тексте ticket на бирже(обычно название идет после знака \"$\"). Если текст говорит о рынке в целом, выведи \"all\", а если на основании текста тикет не понятен, напиши 'none' в ответах на все три вопроса\n",
      "2. на основании текста от -1 до 1 оцени вероятность и направление движения цены, где -1 - цена точно пойдет вниз, а +1 - цена точно пойдет вверх. Напиши только число\n",
      "3. на основании текста ответь, какая длительность у прогноза. Если до 2 недель, выведи 0; если от 2 недель до 3 месяцев то выведи 1; если длительность прогноза до полугода, выведи 2; если больше полугода, выведи 3, если непонятно, выведи -1. Нужно только одно число, без пояснений\n",
      "предложенный текст: Товарищи инвесторы, а что происходит с $OZON ?\n",
      "Есть какие-то инсайды на тему будущего отчёта, откуда такой рост за последние недели?\n",
      "Держу +120% в стратегии \n",
      "\n",
      "\n",
      "&Capital Managament\n"
     ]
    }
   ],
   "source": [
    "print(file_content+df.loc[0, 'text'])"
   ]
  },
  {
   "cell_type": "code",
   "execution_count": 20,
   "metadata": {},
   "outputs": [
    {
     "data": {
      "text/plain": [
       "'Напиши три ответа на основании предложенного текста, ответы должны быть односложными:\\n1. напиши только рассматриваемый в тексте ticket на бирже(обычно название идет после знака \"$\"). Если текст говорит о рынке в целом, выведи \"all\", а если на основании текста тикет не понятен, напиши \\'none\\' в ответах на все три вопроса\\n2. на основании текста от -1 до 1 оцени вероятность и направление движения цены, где -1 - цена точно пойдет вниз, а +1 - цена точно пойдет вверх. Напиши только число\\n3. на основании текста ответь, какая длительность у прогноза. Если до 2 недель, выведи 0; если от 2 недель до 3 месяцев то выведи 1; если длительность прогноза до полугода, выведи 2; если больше полугода, выведи 3. Нужно только одно число, без пояснений\\nпредложенный текст: '"
      ]
     },
     "execution_count": 20,
     "metadata": {},
     "output_type": "execute_result"
    }
   ],
   "source": [
    "file_content"
   ]
  },
  {
   "cell_type": "code",
   "execution_count": 26,
   "metadata": {},
   "outputs": [],
   "source": [
    "query_text = file_content+df.loc[0, 'text']"
   ]
  },
  {
   "cell_type": "code",
   "execution_count": 22,
   "metadata": {},
   "outputs": [
    {
     "name": "stdout",
     "output_type": "stream",
     "text": [
      " 1. OZON\n",
      "2. 0.6 (утверждения о надежных \"инсайдах\" и стратегии +120% указывают на возможное повышение цены)\n",
      "3. 1 (нет прямых указаний на определённую продолжительность прогноза, однако ожидание будущего отчёта и стратегия трейдинга указывают на текущий период от 2 недель до 3 месяцев)\n"
     ]
    }
   ],
   "source": [
    "DS_API_KEY = \"sk-a8b2b1aea0f940fbb135a36e7ae16302\"\n",
    "\n",
    "client = OpenAI(api_key=DS_API_KEY, base_url=\"https://api.deepseek.com/v1\")\n",
    "\n",
    "response = client.chat.completions.create(\n",
    "    model=\"deepseek-chat\",\n",
    "    messages=[\n",
    "        {\"role\": \"user\", \"content\": query_text},\n",
    "    ]\n",
    ")\n",
    "\n",
    "print(response.choices[0].message.content)\n"
   ]
  },
  {
   "cell_type": "code",
   "execution_count": 27,
   "metadata": {},
   "outputs": [
    {
     "name": "stdout",
     "output_type": "stream",
     "text": [
      "1. $OZON\n",
      "2. +1\n",
      "3. -1"
     ]
    }
   ],
   "source": [
    "OXYGEN_API_KEY = \"oxy-UCnZ5b2l0nDkyttL2iBNJA2ylGjK3MXzuEHOY0nJpFN5R\"\n",
    "\n",
    "client = OpenAI(api_key=OXYGEN_API_KEY,base_url=\"https://app.oxyapi.uk/v1\")\n",
    "\n",
    "stream = client.chat.completions.create(\n",
    "    model=\"gpt-3.5-turbo\",\n",
    "    messages=[{\"role\": \"user\", \"content\": query_text}],\n",
    "    stream=True,\n",
    ")\n",
    "for chunk in stream:\n",
    "    if chunk.choices[0].delta.content is not None:\n",
    "        print(chunk.choices[0].delta.content, end=\"\")"
   ]
  }
 ],
 "metadata": {
  "kernelspec": {
   "display_name": "Python 3",
   "language": "python",
   "name": "python3"
  },
  "language_info": {
   "codemirror_mode": {
    "name": "ipython",
    "version": 3
   },
   "file_extension": ".py",
   "mimetype": "text/x-python",
   "name": "python",
   "nbconvert_exporter": "python",
   "pygments_lexer": "ipython3",
   "version": "3.11.8"
  }
 },
 "nbformat": 4,
 "nbformat_minor": 2
}
